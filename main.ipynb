{
 "cells": [
  {
   "cell_type": "code",
   "execution_count": 1,
   "id": "70a20707",
   "metadata": {},
   "outputs": [],
   "source": [
    "import requests"
   ]
  },
  {
   "cell_type": "code",
   "execution_count": 3,
   "id": "cf82e66f",
   "metadata": {},
   "outputs": [],
   "source": [
    "from pymongo import MongoClient\n",
    "client = MongoClient(\"localhost:27017\")\n",
    "db = client.get_database(\"project3\")"
   ]
  },
  {
   "cell_type": "code",
   "execution_count": 4,
   "id": "c23bb488",
   "metadata": {},
   "outputs": [],
   "source": [
    "client_id =\"OULV0HTDMPKCEWPASDNE5ZCAROMR3B0X2OKFEGTZC5AQOTIP\" \n",
    "client_secret=\"X5QNCWMER3ABFZPTZATGX5HIFFURSAGFC0A4KOTR0XFADBZW\"\n"
   ]
  },
  {
   "cell_type": "code",
   "execution_count": 5,
   "id": "f2abada4",
   "metadata": {},
   "outputs": [],
   "source": [
    "url_query = 'https://api.foursquare.com/v2/venues/explore'"
   ]
  },
  {
   "cell_type": "code",
   "execution_count": 6,
   "id": "41f7c565",
   "metadata": {},
   "outputs": [],
   "source": [
    "seville_cartuja = [37.402559152869856, -6.006329402641001]"
   ]
  },
  {
   "cell_type": "code",
   "execution_count": 7,
   "id": "1487a48a",
   "metadata": {},
   "outputs": [],
   "source": [
    "def call_api (query, coordinates):\n",
    "    parametros = {\n",
    "        \"client_id\": client_id,\n",
    "        \"client_secret\": client_secret,\n",
    "        \"v\": \"20220209\",\n",
    "        \"ll\": f\"{coordinates[0]},{coordinates[1]}\",\n",
    "        \"query\": query,\n",
    "        \"limit\": 200   \n",
    "    }\n",
    "    resp = requests.get(url_query, params=parametros).json()[\"response\"][\"groups\"][0][\"items\"]\n",
    "    return resp"
   ]
  },
  {
   "cell_type": "code",
   "execution_count": 9,
   "id": "7444d094",
   "metadata": {},
   "outputs": [],
   "source": [
    "mapa_nombre = [\"venue\", \"name\"]\n",
    "mapa_latitud = [\"venue\", \"location\", \"lat\"]\n",
    "mapa_longitud = [\"venue\", \"location\", \"lng\"]\n",
    "mapa_direccion = [\"venue\", \"location\", \"formattedAddress\"]"
   ]
  },
  {
   "cell_type": "code",
   "execution_count": 10,
   "id": "9c58f044",
   "metadata": {},
   "outputs": [],
   "source": [
    "def getFromDict(diccionario, mapa):\n",
    "    from functools import reduce\n",
    "    import operator\n",
    "    return reduce(operator.getitem,mapa,diccionario)"
   ]
  },
  {
   "cell_type": "code",
   "execution_count": 11,
   "id": "0bc4e3bb",
   "metadata": {},
   "outputs": [],
   "source": [
    "def type_point(lista):\n",
    "    return {\"type\": \"Point\", \n",
    "            \"coordinates\": lista\n",
    "    }"
   ]
  },
  {
   "cell_type": "code",
   "execution_count": 12,
   "id": "a675182b",
   "metadata": {},
   "outputs": [],
   "source": [
    "def json_to_mongo (response, type_=\"\"):\n",
    "    json_to_mongo = []\n",
    "    for dic in response:\n",
    "        new_dic= {}\n",
    "        new_dic[\"nombre\"]= getFromDict(dic,mapa_nombre)\n",
    "        lat = getFromDict(dic,mapa_latitud)\n",
    "        lon = getFromDict(dic,mapa_longitud)\n",
    "        new_dic[\"dirección\"]= getFromDict(dic,mapa_direccion)\n",
    "        new_dic[\"location\"]=  type_point([lat,lon])\n",
    "        new_dic[\"Type\"] = type_\n",
    "        json_to_mongo.append(new_dic)\n",
    "    return json_to_mongo\n",
    "        "
   ]
  },
  {
   "cell_type": "code",
   "execution_count": null,
   "id": "9993c62f",
   "metadata": {},
   "outputs": [],
   "source": []
  },
  {
   "cell_type": "code",
   "execution_count": 13,
   "id": "cde8e525",
   "metadata": {},
   "outputs": [],
   "source": [
    "import json\n",
    "def export_dump (name, json_to_save) :\n",
    "    with open(name, 'w') as f:\n",
    "        json.dump(json_to_save,f)"
   ]
  },
  {
   "cell_type": "code",
   "execution_count": 14,
   "id": "e97b106f",
   "metadata": {},
   "outputs": [],
   "source": [
    "json_vegan_ = call_api(\"vegan\", seville_cartuja)\n",
    "json_startup = call_api(\"Startup\", seville_cartuja)\n",
    "json_guarderias = call_api(\"guarderia\", seville_cartuja)\n",
    "json_colegios = call_api(\"colegio\", seville_cartuja)\n",
    "json_discotecas = call_api(\"discoteca\", seville_cartuja)\n",
    "json_starbucks = call_api(\"starbucks\", seville_cartuja)"
   ]
  },
  {
   "cell_type": "code",
   "execution_count": 15,
   "id": "70784b48",
   "metadata": {},
   "outputs": [],
   "source": [
    "'''json_to_mongo(vegan_json)\n",
    " json_to_mongo(pubs_json)\n",
    "json_to_mongo(guarderias_json)'''\n",
    "json_mongo_IT = json_to_mongo(IT_json)"
   ]
  },
  {
   "cell_type": "code",
   "execution_count": 16,
   "id": "95d3e805",
   "metadata": {},
   "outputs": [],
   "source": [
    "export_dump(\"startups.json\",json_mongo_IT)"
   ]
  },
  {
   "cell_type": "code",
   "execution_count": 17,
   "id": "dfb1f661",
   "metadata": {},
   "outputs": [],
   "source": [
    "#db = client.get_database(\"restaurants\")\n",
    "restaurants = db.get_collection(\"restaurants\")\n"
   ]
  },
  {
   "cell_type": "code",
   "execution_count": 18,
   "id": "5da4fff9",
   "metadata": {},
   "outputs": [],
   "source": [
    "#db.restaurants.create_index([(\"location\", GEOSPHERE)])"
   ]
  },
  {
   "cell_type": "code",
   "execution_count": 24,
   "id": "4ab47274",
   "metadata": {},
   "outputs": [],
   "source": [
    "#query = {\"location\": {\"$near\": {\"$geometry\": type_point(seville_cartuja),\"$minDistance\":100 ,\"$maxDistance\": 2000}}}\n",
    "\n",
    "#list(restaurants.find(query))"
   ]
  },
  {
   "cell_type": "code",
   "execution_count": null,
   "id": "82a9f924",
   "metadata": {},
   "outputs": [],
   "source": [
    "\n"
   ]
  },
  {
   "cell_type": "code",
   "execution_count": 20,
   "id": "260ef641",
   "metadata": {},
   "outputs": [],
   "source": [
    "query = [\n",
    "   {\n",
    "     '$geoNear': {\n",
    "        'near':  [37.402559152869856, -6.006329402641001] ,\n",
    "        'distanceField': \"dist.calculated\",\n",
    "        'maxDistance': 2000,\n",
    "        'distanceMultiplier': 6371,\n",
    "        \"spherical\": True\n",
    "     }\n",
    "   }\n",
    "]"
   ]
  },
  {
   "cell_type": "code",
   "execution_count": 21,
   "id": "a76aef98",
   "metadata": {},
   "outputs": [],
   "source": [
    "geoloc = restaurants.aggregate(query)"
   ]
  },
  {
   "cell_type": "code",
   "execution_count": 22,
   "id": "dd9d80b3",
   "metadata": {},
   "outputs": [],
   "source": [
    "milista= list(geoloc)"
   ]
  },
  {
   "cell_type": "code",
   "execution_count": 137,
   "id": "baa8819c",
   "metadata": {},
   "outputs": [
    {
     "data": {
      "text/plain": [
       "[{'calculated': 1.2694184342275248},\n",
       " {'calculated': 1.2700671489744895},\n",
       " {'calculated': 1.35735209930848},\n",
       " {'calculated': 1.4650009449775032},\n",
       " {'calculated': 1.5021327947317324},\n",
       " {'calculated': 1.5115961919192207},\n",
       " {'calculated': 1.7718311934017992},\n",
       " {'calculated': 1.8093710895103143},\n",
       " {'calculated': 2.1095812651266246},\n",
       " {'calculated': 2.1344208793755683},\n",
       " {'calculated': 2.146381912746296},\n",
       " {'calculated': 2.214905251319349},\n",
       " {'calculated': 2.264377942100668},\n",
       " {'calculated': 2.6187797059889144},\n",
       " {'calculated': 2.7063000055375865},\n",
       " {'calculated': 2.8929602669769054},\n",
       " {'calculated': 4.5644338752369515}]"
      ]
     },
     "execution_count": 137,
     "metadata": {},
     "output_type": "execute_result"
    }
   ],
   "source": [
    "[x['dist'] for x in milista]"
   ]
  }
 ],
 "metadata": {
  "kernelspec": {
   "display_name": "geomaps",
   "language": "python",
   "name": "geomaps"
  },
  "language_info": {
   "codemirror_mode": {
    "name": "ipython",
    "version": 3
   },
   "file_extension": ".py",
   "mimetype": "text/x-python",
   "name": "python",
   "nbconvert_exporter": "python",
   "pygments_lexer": "ipython3",
   "version": "3.8.10"
  }
 },
 "nbformat": 4,
 "nbformat_minor": 5
}
