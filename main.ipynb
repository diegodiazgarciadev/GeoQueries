{
 "cells": [
  {
   "cell_type": "code",
   "execution_count": 65,
   "id": "70a20707",
   "metadata": {},
   "outputs": [],
   "source": [
    "import requests\n",
    "import json"
   ]
  },
  {
   "cell_type": "code",
   "execution_count": 56,
   "id": "cf82e66f",
   "metadata": {},
   "outputs": [],
   "source": [
    "from pymongo import MongoClient\n",
    "client = MongoClient(\"localhost:27017\")\n",
    "db = client.get_database(\"project3\")"
   ]
  },
  {
   "cell_type": "code",
   "execution_count": 57,
   "id": "c23bb488",
   "metadata": {},
   "outputs": [],
   "source": [
    "client_id =\"OULV0HTDMPKCEWPASDNE5ZCAROMR3B0X2OKFEGTZC5AQOTIP\" \n",
    "client_secret=\"X5QNCWMER3ABFZPTZATGX5HIFFURSAGFC0A4KOTR0XFADBZW\"\n"
   ]
  },
  {
   "cell_type": "code",
   "execution_count": 58,
   "id": "f2abada4",
   "metadata": {},
   "outputs": [],
   "source": [
    "url_query = 'https://api.foursquare.com/v2/venues/explore'"
   ]
  },
  {
   "cell_type": "code",
   "execution_count": 59,
   "id": "41f7c565",
   "metadata": {},
   "outputs": [],
   "source": [
    "seville_cartuja = [37.402559152869856, -6.006329402641001]"
   ]
  },
  {
   "cell_type": "code",
   "execution_count": 60,
   "id": "1487a48a",
   "metadata": {},
   "outputs": [],
   "source": [
    "def call_api (query, coordinates):\n",
    "    parametros = {\n",
    "        \"client_id\": client_id,\n",
    "        \"client_secret\": client_secret,\n",
    "        \"v\": \"20220209\",\n",
    "        \"ll\": f\"{coordinates[0]},{coordinates[1]}\",\n",
    "        \"query\": query,\n",
    "        \"limit\": 200   \n",
    "    }\n",
    "    resp = requests.get(url_query, params=parametros).json()[\"response\"][\"groups\"][0][\"items\"]\n",
    "    return resp"
   ]
  },
  {
   "cell_type": "code",
   "execution_count": 61,
   "id": "7444d094",
   "metadata": {},
   "outputs": [],
   "source": [
    "mapa_nombre = [\"venue\", \"name\"]\n",
    "mapa_latitud = [\"venue\", \"location\", \"lat\"]\n",
    "mapa_longitud = [\"venue\", \"location\", \"lng\"]\n",
    "mapa_direccion = [\"venue\", \"location\", \"formattedAddress\"]"
   ]
  },
  {
   "cell_type": "code",
   "execution_count": 62,
   "id": "9c58f044",
   "metadata": {},
   "outputs": [],
   "source": [
    "def getFromDict(diccionario, mapa):\n",
    "    from functools import reduce\n",
    "    import operator\n",
    "    return reduce(operator.getitem,mapa,diccionario)"
   ]
  },
  {
   "cell_type": "code",
   "execution_count": 66,
   "id": "0bc4e3bb",
   "metadata": {},
   "outputs": [],
   "source": [
    "def type_point(lista):\n",
    "    return {\"type\": \"Point\", \n",
    "            \"coordinates\": lista\n",
    "    }"
   ]
  },
  {
   "cell_type": "code",
   "execution_count": 67,
   "id": "a675182b",
   "metadata": {},
   "outputs": [],
   "source": [
    "def json_to_mongo (response, type_=\"\"):\n",
    "    json_to_mongo = []\n",
    "    for dic in response:\n",
    "        new_dic= {}\n",
    "        new_dic[\"nombre\"]= getFromDict(dic,mapa_nombre)\n",
    "        lat = getFromDict(dic,mapa_latitud)\n",
    "        lon = getFromDict(dic,mapa_longitud)\n",
    "        new_dic[\"dirección\"]= getFromDict(dic,mapa_direccion)\n",
    "        new_dic[\"location\"]=  type_point([lat,lon])\n",
    "        new_dic[\"Type\"] = type_\n",
    "        json_to_mongo.append(new_dic)\n",
    "    return json_to_mongo\n",
    "        "
   ]
  },
  {
   "cell_type": "code",
   "execution_count": null,
   "id": "9993c62f",
   "metadata": {},
   "outputs": [],
   "source": []
  },
  {
   "cell_type": "code",
   "execution_count": 68,
   "id": "cde8e525",
   "metadata": {},
   "outputs": [],
   "source": [
    "\n",
    "def export_dump (name, json_to_save) :\n",
    "    with open(name, 'w') as f:\n",
    "        json.dump(json_to_save,f)"
   ]
  },
  {
   "cell_type": "code",
   "execution_count": 47,
   "id": "e97b106f",
   "metadata": {},
   "outputs": [],
   "source": [
    "def json_from_city(city_coordiantes):\n",
    "    json_vegan = call_api(\"vegan\", city_coordiantes)\n",
    "    json_startup = call_api(\"Startup\", city_coordiantes)\n",
    "    json_guarderias = call_api(\"guarderia\", city_coordiantes)\n",
    "    json_colegios = call_api(\"colegio\", city_coordiantes)\n",
    "    json_discotecas = call_api(\"discoteca\", city_coordiantes)\n",
    "    json_starbucks = call_api(\"starbucks\", city_coordiantes)\n",
    "    json_train_station = call_api(\"estacion trenes\", city_coordiantes)\n",
    "    json_airport = call_api(\"aeropuerto\", city_coordiantes)\n",
    "    json_peluqueria = call_api(\"peluquería canina\", city_coordiantes)\n",
    "    \n",
    "    return [json_vegan, json_startup, json_guarderias, json_colegios, json_discotecas, \n",
    "            json_starbucks,json_train_station,json_airport,json_peluqueria]"
   ]
  },
  {
   "cell_type": "code",
   "execution_count": 74,
   "id": "e1d6588c",
   "metadata": {},
   "outputs": [],
   "source": [
    "def json_from_city_to_dic(city_coordiantes):\n",
    "    json_vegan = call_api(\"vegan\", city_coordiantes)\n",
    "    json_startup = call_api(\"Startup\", city_coordiantes)\n",
    "    json_guarderias = call_api(\"guarderia\", city_coordiantes)\n",
    "    json_colegios = call_api(\"colegio\", city_coordiantes)\n",
    "    json_discotecas = call_api(\"discoteca\", city_coordiantes)\n",
    "    json_starbucks = call_api(\"starbucks\", city_coordiantes)\n",
    "    json_train_station = call_api(\"estacion trenes\", city_coordiantes)\n",
    "    json_airport = call_api(\"aeropuerto\", city_coordiantes)\n",
    "    json_peluqueria = call_api(\"peluquería canina\", city_coordiantes)\n",
    "    \n",
    "    return {\n",
    "            \"vegan\":json_vegan,\n",
    "            \"startup\": json_startup,\n",
    "            \"guarderias\": json_guarderias,\n",
    "            \"colegios\": json_colegios, \n",
    "            \"discotecas\": json_discotecas, \n",
    "            \"starbucks\":json_starbucks,\n",
    "            \"trains\": json_train_station,\n",
    "            \"airports\":json_airport,\n",
    "            \"peluqueria\": json_peluqueria\n",
    "    }"
   ]
  },
  {
   "cell_type": "code",
   "execution_count": 52,
   "id": "bcbbcf33",
   "metadata": {},
   "outputs": [],
   "source": [
    "list_ = json_from_city([53.34283952194576, -6.276496308402336])"
   ]
  },
  {
   "cell_type": "code",
   "execution_count": 69,
   "id": "70784b48",
   "metadata": {},
   "outputs": [],
   "source": [
    "def build_list_json_to_mongo(list_json_cities):\n",
    "    list_json_to_mongo = []\n",
    "    for i in list_json_cities:\n",
    "        list_json_to_mongo.append(json_to_mongo(i))\n",
    "    return list_json_to_mongo"
   ]
  },
  {
   "cell_type": "code",
   "execution_count": 80,
   "id": "92fe02c9",
   "metadata": {},
   "outputs": [],
   "source": [
    "def build_dic_json_to_mongo(dic_json_cities):\n",
    "    list_json_to_mongo = []\n",
    "    dictionary = dict ()\n",
    "    for k, v in dic_json_cities.items():\n",
    "        dictionary[k] = json_to_mongo(v)\n",
    "    return dictionary"
   ]
  },
  {
   "cell_type": "code",
   "execution_count": null,
   "id": "d248149f",
   "metadata": {},
   "outputs": [],
   "source": [
    "dic_json_cities = json_from_city_to_dic(seville_cartuja)\n"
   ]
  },
  {
   "cell_type": "code",
   "execution_count": 82,
   "id": "2293d77d",
   "metadata": {},
   "outputs": [],
   "source": [
    "dic_json_to_mongo = build_dic_json_to_mongo(dic_json_cities)\n"
   ]
  },
  {
   "cell_type": "code",
   "execution_count": 88,
   "id": "8f453130",
   "metadata": {},
   "outputs": [
    {
     "data": {
      "text/plain": [
       "[{'nombre': 'Arte y Sabor',\n",
       "  'dirección': ['Alameda de Hercules, 85 (Niño Perdido)',\n",
       "   '41002 Sevilla Andalucía',\n",
       "   'España'],\n",
       "  'location': {'type': 'Point',\n",
       "   'coordinates': [37.397938103057676, -5.993535690490854]},\n",
       "  'Type': ''},\n",
       " {'nombre': 'Habanita bar-restaurante',\n",
       "  'dirección': ['C. Golfo, 3 (Alfalfa)', '41004 Sevilla Andalucía', 'España'],\n",
       "  'location': {'type': 'Point',\n",
       "   'coordinates': [37.39079519921688, -5.991394388081911]},\n",
       "  'Type': ''},\n",
       " {'nombre': 'El Paladar',\n",
       "  'dirección': ['C. Lumbreras, 14', '41002 Sevilla Andalucía', 'España'],\n",
       "  'location': {'type': 'Point',\n",
       "   'coordinates': [37.40074883402185, -5.995056109436287]},\n",
       "  'Type': ''},\n",
       " {'nombre': 'Veganitessen',\n",
       "  'dirección': ['C. Pastor y Landero', '41001 Sevilla Andalucía', 'España'],\n",
       "  'location': {'type': 'Point',\n",
       "   'coordinates': [37.38752198105977, -5.9999156108412794]},\n",
       "  'Type': ''},\n",
       " {'nombre': 'Milk Away',\n",
       "  'dirección': ['C. Hernando Colon, 3', 'Sevilla Andalucía', 'España'],\n",
       "  'location': {'type': 'Point',\n",
       "   'coordinates': [37.38792076679644, -5.9936542311489305]},\n",
       "  'Type': ''},\n",
       " {'nombre': 'El viajero sedentario',\n",
       "  'dirección': ['Alameda de Hércules, 77', 'Sevilla Andalucía', 'España'],\n",
       "  'location': {'type': 'Point',\n",
       "   'coordinates': [37.39851920354189, -5.993431715214293]},\n",
       "  'Type': ''},\n",
       " {'nombre': 'Gaia Restaurante',\n",
       "  'dirección': ['Calle de Luis de Vargas, 2 (Calle Marqués de Paradas, 22)',\n",
       "   '41001 Sevilla Andalucía',\n",
       "   'España'],\n",
       "  'location': {'type': 'Point',\n",
       "   'coordinates': [37.390269398889586, -6.001410377232773]},\n",
       "  'Type': ''},\n",
       " {'nombre': 'Fargo',\n",
       "  'dirección': ['C. Perez Galdós, 20', 'Sevilla Andalucía', 'España'],\n",
       "  'location': {'type': 'Point', 'coordinates': [37.390952, -5.990993]},\n",
       "  'Type': ''},\n",
       " {'nombre': 'Bar Alfalfa',\n",
       "  'dirección': ['Plaza de la Alfalfa, 10',\n",
       "   '41004 Sevilla Andalucía',\n",
       "   'España'],\n",
       "  'location': {'type': 'Point',\n",
       "   'coordinates': [37.3900567128735, -5.990202095829306]},\n",
       "  'Type': ''},\n",
       " {'nombre': 'Dulce Trazo',\n",
       "  'dirección': ['C. Méndez Núñez, 7', '41001 Sevilla Andalucía', 'España'],\n",
       "  'location': {'type': 'Point',\n",
       "   'coordinates': [37.389867293614806, -5.996603939473247]},\n",
       "  'Type': ''},\n",
       " {'nombre': 'Almazen Café',\n",
       "  'dirección': ['Calle San Esteban 15', '41003 Sevilla Andalucía', 'España'],\n",
       "  'location': {'type': 'Point', 'coordinates': [37.389721, -5.985609]},\n",
       "  'Type': ''},\n",
       " {'nombre': 'Jester',\n",
       "  'dirección': ['Calle Puerta de la Carne, 7a',\n",
       "   '41004 Sevilla Andalucía',\n",
       "   'España'],\n",
       "  'location': {'type': 'Point',\n",
       "   'coordinates': [37.385766544266914, -5.986380196451952]},\n",
       "  'Type': ''},\n",
       " {'nombre': 'Filo Sandwichería Pija',\n",
       "  'dirección': ['Hernando Colón 19', '41004 Sevilla Andalucía', 'España'],\n",
       "  'location': {'type': 'Point', 'coordinates': [37.387348, -5.993371]},\n",
       "  'Type': ''},\n",
       " {'nombre': 'Just Good a lifestyle',\n",
       "  'dirección': ['Calle Avión Cuatro Vientos 1, local 1 (Avenida Diego Martínez Barrio)',\n",
       "   '41013 Sevilla Andalucía',\n",
       "   'España'],\n",
       "  'location': {'type': 'Point',\n",
       "   'coordinates': [37.375818591114886, -5.97506046295166]},\n",
       "  'Type': ''},\n",
       " {'nombre': 'Sidonia',\n",
       "  'dirección': ['C. Calatrava, 16 (Alameda de Hércules)',\n",
       "   '41002 Sevilla Andalucía',\n",
       "   'España'],\n",
       "  'location': {'type': 'Point',\n",
       "   'coordinates': [37.40161543033652, -5.994158576496133]},\n",
       "  'Type': ''},\n",
       " {'nombre': 'Torch',\n",
       "  'dirección': ['Paseo de las Delicias, 3',\n",
       "   '41013 Sevilla Andalucía',\n",
       "   'España'],\n",
       "  'location': {'type': 'Point', 'coordinates': [37.381651, -5.995271]},\n",
       "  'Type': ''},\n",
       " {'nombre': 'Bar Antojo',\n",
       "  'dirección': ['C. Calatrava, 44', '41002 Sevilla Andalucía', 'España'],\n",
       "  'location': {'type': 'Point',\n",
       "   'coordinates': [37.40287705459166, -5.994911790840845]},\n",
       "  'Type': ''}]"
      ]
     },
     "execution_count": 88,
     "metadata": {},
     "output_type": "execute_result"
    }
   ],
   "source": [
    "dic_json_to_mongo[\"vegan\"]"
   ]
  },
  {
   "cell_type": "code",
   "execution_count": 87,
   "id": "95d3e805",
   "metadata": {},
   "outputs": [],
   "source": [
    "for k, v in dic_json_to_mongo.items():\n",
    "    export_dump(f\"{k}.json\",v)"
   ]
  },
  {
   "cell_type": "code",
   "execution_count": 17,
   "id": "dfb1f661",
   "metadata": {},
   "outputs": [],
   "source": [
    "#db = client.get_database(\"restaurants\")\n",
    "restaurants = db.get_collection(\"restaurants\")\n"
   ]
  },
  {
   "cell_type": "code",
   "execution_count": 18,
   "id": "5da4fff9",
   "metadata": {},
   "outputs": [],
   "source": [
    "#db.restaurants.create_index([(\"location\", GEOSPHERE)])"
   ]
  },
  {
   "cell_type": "code",
   "execution_count": 24,
   "id": "4ab47274",
   "metadata": {},
   "outputs": [],
   "source": [
    "#query = {\"location\": {\"$near\": {\"$geometry\": type_point(seville_cartuja),\"$minDistance\":100 ,\"$maxDistance\": 2000}}}\n",
    "\n",
    "#list(restaurants.find(query))"
   ]
  },
  {
   "cell_type": "code",
   "execution_count": null,
   "id": "82a9f924",
   "metadata": {},
   "outputs": [],
   "source": [
    "\n"
   ]
  },
  {
   "cell_type": "code",
   "execution_count": 20,
   "id": "260ef641",
   "metadata": {},
   "outputs": [],
   "source": [
    "query = [\n",
    "   {\n",
    "     '$geoNear': {\n",
    "        'near':  [37.402559152869856, -6.006329402641001] ,\n",
    "        'distanceField': \"dist.calculated\",\n",
    "        'maxDistance': 2000,\n",
    "        'distanceMultiplier': 6371,\n",
    "        \"spherical\": True\n",
    "     }\n",
    "   }\n",
    "]"
   ]
  },
  {
   "cell_type": "code",
   "execution_count": 21,
   "id": "a76aef98",
   "metadata": {},
   "outputs": [],
   "source": [
    "geoloc = restaurants.aggregate(query)"
   ]
  },
  {
   "cell_type": "code",
   "execution_count": 22,
   "id": "dd9d80b3",
   "metadata": {},
   "outputs": [],
   "source": [
    "milista= list(geoloc)"
   ]
  },
  {
   "cell_type": "code",
   "execution_count": 137,
   "id": "baa8819c",
   "metadata": {},
   "outputs": [
    {
     "data": {
      "text/plain": [
       "[{'calculated': 1.2694184342275248},\n",
       " {'calculated': 1.2700671489744895},\n",
       " {'calculated': 1.35735209930848},\n",
       " {'calculated': 1.4650009449775032},\n",
       " {'calculated': 1.5021327947317324},\n",
       " {'calculated': 1.5115961919192207},\n",
       " {'calculated': 1.7718311934017992},\n",
       " {'calculated': 1.8093710895103143},\n",
       " {'calculated': 2.1095812651266246},\n",
       " {'calculated': 2.1344208793755683},\n",
       " {'calculated': 2.146381912746296},\n",
       " {'calculated': 2.214905251319349},\n",
       " {'calculated': 2.264377942100668},\n",
       " {'calculated': 2.6187797059889144},\n",
       " {'calculated': 2.7063000055375865},\n",
       " {'calculated': 2.8929602669769054},\n",
       " {'calculated': 4.5644338752369515}]"
      ]
     },
     "execution_count": 137,
     "metadata": {},
     "output_type": "execute_result"
    }
   ],
   "source": [
    "[x['dist'] for x in milista]"
   ]
  }
 ],
 "metadata": {
  "kernelspec": {
   "display_name": "geomaps",
   "language": "python",
   "name": "geomaps"
  },
  "language_info": {
   "codemirror_mode": {
    "name": "ipython",
    "version": 3
   },
   "file_extension": ".py",
   "mimetype": "text/x-python",
   "name": "python",
   "nbconvert_exporter": "python",
   "pygments_lexer": "ipython3",
   "version": "3.8.10"
  }
 },
 "nbformat": 4,
 "nbformat_minor": 5
}
